{
 "cells": [
  {
   "cell_type": "code",
   "execution_count": null,
   "metadata": {},
   "outputs": [],
   "source": [
    " # importing the required libraries\n",
    "  import pandas as pd\n",
    "  import gspread\n",
    "  from oauth2client.service_account import ServiceAccountCredentials\n",
    "\n",
    "\n",
    "  ss_cred_path = r'rokdata.json' # Your path to the json credential file\n",
    "  from oauth2client.service_account import ServiceAccountCredentials # import oath2client\n",
    "  scope = ['https://spreadsheets.google.com/feeds','https://www.googleapis.com/auth/drive'] # define the scope\n",
    "  creds = ServiceAccountCredentials.from_json_keyfile_name(ss_cred_path, scope) # add credentials to the account\n",
    "  gc = gspread.authorize(creds) # authorize the clientsheet "
   ]
  },
  {
   "cell_type": "code",
   "execution_count": null,
   "metadata": {},
   "outputs": [],
   "source": [
    "  spreadsheet_id = \"1QG-W1DRwFys-VOt1r6c5asO8fzRZT-qx_OB85V0oJF4\"\n",
    "  wks = gc.open_by_key(spreadsheet_id)\n",
    "  worksheet = wks.worksheet('Coins')\n",
    "  df = pd.DataFrame(worksheet.get_all_records())"
   ]
  }
 ],
 "metadata": {
  "kernelspec": {
   "display_name": "rokDisscordBot",
   "language": "python",
   "name": "python3"
  },
  "language_info": {
   "name": "python",
   "version": "3.9.17"
  },
  "orig_nbformat": 4
 },
 "nbformat": 4,
 "nbformat_minor": 2
}
